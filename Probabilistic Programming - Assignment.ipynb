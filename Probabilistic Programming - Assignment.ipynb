{
 "cells": [
  {
   "cell_type": "markdown",
   "metadata": {},
   "source": [
    "# [5SSD0] Probabilistic Programming - Assignment\n",
    "\n",
    "Author: Wouter M. Kouw\n",
    "\n",
    "---\n",
    "\n",
    "In this assignment, you will apply polynomial regression to predict how much sound an airfoil makes during flight."
   ]
  },
  {
   "cell_type": "code",
   "execution_count": 270,
   "metadata": {},
   "outputs": [
    {
     "name": "stderr",
     "output_type": "stream",
     "text": [
      "\u001b[32m\u001b[1m  Activating\u001b[22m\u001b[39m environment at `C:\\Users\\lange\\OneDrive - TU Eindhoven\\master\\2021-2022\\Q2\\5SSD0 - Bayesian Machine Learning and Information Processing\\prob-programming\\pp-assignment\\workspace\\Project.toml`\n"
     ]
    }
   ],
   "source": [
    "using Pkg\n",
    "Pkg.activate(\"workspace\")\n",
    "Pkg.instantiate();"
   ]
  },
  {
   "cell_type": "code",
   "execution_count": 271,
   "metadata": {},
   "outputs": [],
   "source": [
    "using CSV\n",
    "using Random\n",
    "using LinearAlgebra\n",
    "using DataFrames\n",
    "using ProgressMeter\n",
    "using ForneyLab\n",
    "using Plots\n",
    "pyplot();"
   ]
  },
  {
   "cell_type": "markdown",
   "metadata": {},
   "source": [
    "### Problem: Airfoil self-noise\n",
    "\n",
    "Among other matters, NASA studies how various design factors affect the noise an airfoil makes. In short, the way the wind travels past the foil creates vortices of different shapes. A vortex pushes and pulls the wing which causes it to oscillate and generate sound waves. The figure below shows two designs: a sharp trailing edge (left) and a blunt edge (right). "
   ]
  },
  {
   "cell_type": "markdown",
   "metadata": {},
   "source": [
    "<div> \n",
    "    <table>\n",
    "        <tr>\n",
    "            <td> <img src=\"figures/Airfoil-schematic-02.png\"> </td>\n",
    "            <td> <img src=\"figures/Airfoil-schematic-04.png\"/> </td>\n",
    "        </tr>\n",
    "    </table>\n",
    "</div>"
   ]
  },
  {
   "cell_type": "markdown",
   "metadata": {},
   "source": [
    "NASA performed experiments with these airfoils in a windtunnel. They varied several design features, measured oscillation frequency and recorded sound amplitude levels. The results were published as a technical report and the data has been made publicly available ([data set](https://archive.ics.uci.edu/ml/datasets/Airfoil+Self-Noise)). I have split it into training and test sets for this assignment.\n",
    "\n",
    "Reference: [Brooks, Pope & Marcolini (1989). Airfoil self-noise and prediction, NASA RP 1218](https://ntrs.nasa.gov/api/citations/19890016302/downloads/19890016302.pdf)"
   ]
  },
  {
   "cell_type": "markdown",
   "metadata": {},
   "source": [
    "For now, we will only consider regressing the feature \"Frequency\" onto the feature \"Sound amplitude\"."
   ]
  },
  {
   "cell_type": "code",
   "execution_count": 272,
   "metadata": {},
   "outputs": [],
   "source": [
    "# Load training data\n",
    "trn_data = DataFrame(CSV.File(\"data/airfoil_trn.csv\"))\n",
    "trn_input = log10.(trn_data[:,1])\n",
    "trn_output = trn_data[:,6];\n",
    "N = size(trn_data,1)\n",
    "\n",
    "# Load test data\n",
    "tst_data = DataFrame(CSV.File(\"data/airfoil_tst.csv\"));\n",
    "tst_input = log10.(tst_data[:,1])\n",
    "tst_output = tst_data[:,6];\n",
    "M = size(tst_data,1);"
   ]
  },
  {
   "cell_type": "markdown",
   "metadata": {},
   "source": [
    "Let's visualize this relationship."
   ]
  },
  {
   "cell_type": "code",
   "execution_count": 273,
   "metadata": {},
   "outputs": [
    {
     "data": {
      "image/png": "[encoded data removed]"
     },
     "execution_count": 273,
     "metadata": {},
     "output_type": "execute_result"
    }
   ],
   "source": [
    "scatter(trn_data[:,1], trn_output, size=(1000,300), color=\"black\", xscale=:log10, xlabel=\"Frequency (Hz)\", ylabel=\"Sound (dB)\", label=\"measurements\")"
   ]
  },
  {
   "cell_type": "markdown",
   "metadata": {},
   "source": [
    "At first glance, there seems to be a nonlinear relation between these two variables. But it's still relatively smooth, so we don't need a highly flexible function approximator. A polynomial should fit nicely."
   ]
  },
  {
   "cell_type": "markdown",
   "metadata": {},
   "source": [
    "### Polynomial regression\n",
    "\n",
    "We can fit a curve by applying a polynomial basis expansion to the data points. To fit a polynomial of order $d$, we define a basis expansion function $\\phi : \\mathbb{R} \\rightarrow \\mathbb{R}^{d+1}$, where \n",
    "\n",
    "$$\\phi(x) = \\begin{bmatrix} 1 & x & x^2 & x^3 & \\dots & x^d \\end{bmatrix} \\, .$$\n",
    "\n",
    "Our regression model will be:\n",
    "\n",
    "$$ y_k = \\sum_{i=1}^{d+1} \\theta_i \\phi_i(x_k) + e_k \\, ,$$ \n",
    "\n",
    "where $\\phi_i(x)$ indicates the $i$-th element of the expanded vector. The noise follows a zero-mean Gaussian distribution with precision parameter $\\tau$: \n",
    "\n",
    "$$e_k \\sim \\mathcal{N}(0, \\tau^{-1}) \\, .$$ \n",
    "\n",
    "Note that although this model is polynomial in the data, it remains linear in the coefficients. Our goal will be to estimate appropriate coefficients and make accurate predictions for future data points.\n",
    "\n",
    "A useful step is to precompute the polynomial expansion for all data points:\n",
    "\n",
    "$$ V = \\begin{bmatrix} 1 & x_1 & x_1^2 & \\dots x_1^d \\\\\n",
    "                       1 & x_2 & x_2^2 & \\dots x_2^d \\\\\n",
    "                       \\vdots & \\vdots & \\ddots & \\vdots \\\\ \n",
    "                       1 & x_N & x_N^2 & \\dots x_N^d \\end{bmatrix} \\quad .$$\n",
    "                       \n",
    "This is called a [Vandermonde](https://en.wikipedia.org/wiki/Vandermonde_matrix) matrix. Below is an example of how to make one:"
   ]
  },
  {
   "cell_type": "code",
   "execution_count": 274,
   "metadata": {},
   "outputs": [
    {
     "data": {
      "text/plain": [
       "51×4 Matrix{Float64}:\n",
       " 1.0  2.79934   7.83631  21.9365\n",
       " 1.0  2.90309   8.42793  24.467\n",
       " 1.0  3.0       9.0      27.0\n",
       " 1.0  3.09691   9.59085  29.702\n",
       " 1.0  3.20412  10.2664   32.8947\n",
       " 1.0  3.30103  10.8968   35.9707\n",
       " 1.0  3.39794  11.546    39.2326\n",
       " 1.0  3.49831  12.2382   42.8129\n",
       " 1.0  3.60206  12.9748   46.7361\n",
       " 1.0  3.69897  13.6824   50.6107\n",
       " 1.0  3.79934  14.435    54.8434\n",
       " 1.0  3.90309  15.2341   59.4601\n",
       " 1.0  4.0      16.0      64.0\n",
       " ⋮                       \n",
       " 1.0  3.60206  12.9748   46.7361\n",
       " 1.0  3.69897  13.6824   50.6107\n",
       " 1.0  3.79934  14.435    54.8434\n",
       " 1.0  3.90309  15.2341   59.4601\n",
       " 1.0  2.49831   6.24156  15.5933\n",
       " 1.0  2.60206   6.77072  17.6178\n",
       " 1.0  2.69897   7.28444  19.6605\n",
       " 1.0  2.79934   7.83631  21.9365\n",
       " 1.0  2.90309   8.42793  24.467\n",
       " 1.0  3.0       9.0      27.0\n",
       " 1.0  3.09691   9.59085  29.702\n",
       " 1.0  3.20412  10.2664   32.8947"
      ]
     },
     "execution_count": 274,
     "metadata": {},
     "output_type": "execute_result"
    }
   ],
   "source": [
    "# Order of polynomial\n",
    "d = 3\n",
    "\n",
    "# Polynomial basis function\n",
    "ϕ(x) = [x.^j for j in 0:d]\n",
    "\n",
    "# Vandermonde matrix\n",
    "V = hcat(ϕ(trn_input)...)"
   ]
  },
  {
   "cell_type": "markdown",
   "metadata": {},
   "source": [
    "## [2pt] Question 1 \n",
    "\n",
    "- Specify a polynomial regression model of order $d = 3$ using ForneyLab.jl. \n",
    "- Define a message passing algorithm.\n",
    "- Infer a posterior distribution for the coefficients. \n",
    "\n",
    "For now, you may fix the precision of the likelihood function as follows: \n",
    "- Calculate the variance of the observed signal per distinct frequency level, invert these values and average over them."
   ]
  },
  {
   "cell_type": "code",
   "execution_count": 275,
   "metadata": {},
   "outputs": [
    {
     "name": "stdout",
     "output_type": "stream",
     "text": [
      "0.1915481809846743\n"
     ]
    }
   ],
   "source": [
    "# Fixed precision\n",
    "### YOUR CODE HERE ###\n",
    "\n",
    "variance = Array{Float64}(undef, length(freq_groups)) \n",
    "freq_groups = groupby(trn_data, [1]) # group data by frequency\n",
    "\n",
    "# calculate variance\n",
    "for (i, group) in enumerate(freq_groups)\n",
    "      variance[i] = var(freq_groups[i][:,6]) \n",
    "end\n",
    "\n",
    "precision = mean(1 ./ variance) # precision = τ\n",
    "variance = 1/precision\n",
    "println(variance)\n"
   ]
  },
  {
   "cell_type": "code",
   "execution_count": 276,
   "metadata": {},
   "outputs": [],
   "source": [
    "# Specify model, define message passing algorithm and infer posteriors\n",
    "### YOUR CODE HERE ###\n",
    "σ2_Y = variance\n",
    "# Start factor graph\n",
    "graph = FactorGraph();\n",
    "\n",
    "# Prior weight parameters\n",
    "μ_θ = zeros(d+1)\n",
    "Σ_θ = Diagonal(ones(d+1))\n",
    "\n",
    "# Add weight prior to graph\n",
    "@RV θ ~ GaussianMeanVariance(μ_θ, Σ_θ, id=:f_a)\n",
    "\n",
    "# Pre-define vectors for storing latent and observed variables\n",
    "X = Vector{Variable}(undef, N) \n",
    "Y = Vector{Variable}(undef, N)\n",
    "\n",
    "# build our factor graph\n",
    "for i = 1:N\n",
    "    # Define i-th covariate\n",
    "    @RV X[i]\n",
    "    \n",
    "    # Define likelihood of i-th response\n",
    "    @RV Y[i] ~ GaussianMeanVariance(dot(θ,X[i]), σ2_Y, id=Symbol(\"f_b\"*string(i)))\n",
    "\n",
    "    # Designate observed variables\n",
    "    placeholder(X[i], :X, index=i, dims=(4,))\n",
    "    placeholder(Y[i], :Y, index=i);\n",
    "    \n",
    "end\n",
    "\n",
    "# Load data\n",
    "data = Dict(:X => [V[i, :] for i = 1:N],\n",
    "            :Y => trn_output)\n",
    "\n",
    "# # GET POSTERIOR\n",
    "posterior = Dict()\n",
    "\n",
    "# # Define and compile the algorithm\n",
    "algorithm = messagePassingAlgorithm(θ) \n",
    "source_code = algorithmSourceCode(algorithm)\n",
    "\n",
    "# # Evaluate the generated code to get the step! function\n",
    "eval(Meta.parse(source_code));\n",
    "\n",
    "# # Update posterior for θ\n",
    "step!(data, posterior);\n"
   ]
  },
  {
   "cell_type": "markdown",
   "metadata": {},
   "source": [
    "The following cells visualize the regression function using a MAP estimate based on your computed posterior distribution."
   ]
  },
  {
   "cell_type": "code",
   "execution_count": 277,
   "metadata": {},
   "outputs": [
    {
     "data": {
      "text/plain": [
       "4-element Vector{Float64}:\n",
       " 28.581156682574147\n",
       " 34.125068818742875\n",
       "  9.569436546575162\n",
       " -3.31436379992374"
      ]
     },
     "execution_count": 277,
     "metadata": {},
     "output_type": "execute_result"
    }
   ],
   "source": [
    "# Extract maximum a posteriori (MAP) estimate from posterior\n",
    "θ_MAP = ForneyLab.unsafeMode(posterior[:θ])"
   ]
  },
  {
   "cell_type": "markdown",
   "metadata": {},
   "source": [
    "(The `unsafe` function used above is a ForneyLab internal method to deal with potential numerical instabilities.)"
   ]
  },
  {
   "cell_type": "code",
   "execution_count": 278,
   "metadata": {},
   "outputs": [
    {
     "data": {
      "image/png": "[encoded data removed]"
     },
     "execution_count": 278,
     "metadata": {},
     "output_type": "execute_result"
    }
   ],
   "source": [
    "# Generate Vandermonde matrix for training data\n",
    "V_trn = hcat(ϕ(trn_input)...);\n",
    "\n",
    "# Sorted index for training inputs (necessary for plotting a line)\n",
    "sortedix_trn = sortperm(trn_input)\n",
    "\n",
    "# Visualize fit of current MAP estimate in model\n",
    "scatter(trn_data[:,1], trn_output, size=(1000,300), color=\"black\", xscale=:log10, xlabel=\"Frequency (Hz)\", ylabel=\"Sound (dB)\", label=\"training data\")\n",
    "plot!(trn_data[sortedix_trn,1], V_trn[sortedix_trn,:]*θ_MAP, color=\"blue\", label=\"MAP fit for d=3\")"
   ]
  },
  {
   "cell_type": "markdown",
   "metadata": {},
   "source": [
    "## [1pt] Question 2\n",
    "\n",
    "- Compute the posterior predictive distribution for each test data point.\n",
    "- Scatter the test data points (frequency in `xscale=:log10` on x-axis, sound on y-axis).\n",
    "- Add the means of the posterior predictive distributions as a solid line.\n",
    "- Add the prediction uncertainty margin of +/- $\\sigma$ around the means (use the `ribbon=` keyword argument for this purpose)."
   ]
  },
  {
   "cell_type": "code",
   "execution_count": 279,
   "metadata": {},
   "outputs": [
    {
     "data": {
      "text/plain": [
       "4×4 Matrix{Float64}:\n",
       "  0.731848   -0.293308   -0.0277066   0.0143827\n",
       " -0.293308    0.599043   -0.282161    0.0381781\n",
       " -0.0277066  -0.282161    0.181935   -0.027957\n",
       "  0.0143827   0.0381781  -0.027957    0.00448109"
      ]
     },
     "execution_count": 279,
     "metadata": {},
     "output_type": "execute_result"
    }
   ],
   "source": [
    "### YOUR CODE HERE ###\n",
    "V_tst = hcat(ϕ(tst_input)...); \n",
    "\n",
    "M_n = ForneyLab.unsafeMean(posterior[:θ])\n",
    "S_n = ForneyLab.unsafeCov(posterior[:θ])  \n"
   ]
  },
  {
   "cell_type": "markdown",
   "metadata": {},
   "source": [
    "## [1pt] Question 3\n",
    "\n",
    "- Compute the maximum likelihood (ML) estimate on the training data set.\n",
    "- Scatter the test data points (frequency in `xscale=:log10` on x-axis, sound on y-axis).\n",
    "- Add the predictions based on the ML estimate as a solid line.\n",
    "- Compute and compare the mean squared errors for both the ML and MAP estimates on the test data. "
   ]
  },
  {
   "cell_type": "code",
   "execution_count": 280,
   "metadata": {},
   "outputs": [],
   "source": [
    "### YOUR CODE HERE ###"
   ]
  },
  {
   "cell_type": "markdown",
   "metadata": {},
   "source": [
    "## [3pt] Question 4\n",
    "\n",
    "We will now treat the precision of the likelihood function as an unknown variable (i.e., we will no longer fix it using a separate estimation procedure).\n",
    "\n",
    "- Specify a probabilistic model of order $d = 3$ where the unknown likelihood precision is given an appropriate prior distribution. \n",
    "- Define a message passing procedure to simultaneously estimate coefficients and likelihood precision.\n",
    "- Infer a posterior distribution for the coefficients and the likelihood precision."
   ]
  },
  {
   "cell_type": "code",
   "execution_count": 281,
   "metadata": {},
   "outputs": [],
   "source": [
    "### YOUR CODE HERE ###"
   ]
  },
  {
   "cell_type": "code",
   "execution_count": 282,
   "metadata": {},
   "outputs": [
    {
     "data": {
      "image/png": "[encoded data removed]"
     },
     "execution_count": 282,
     "metadata": {},
     "output_type": "execute_result"
    }
   ],
   "source": [
    "# Extract maximum a posteriori (MAP) estimate from posterior\n",
    "θ_MAP = ForneyLab.unsafeMode(posterior[:θ]);\n",
    "\n",
    "# Vandermonde matrix\n",
    "V_trn = hcat(ϕ(trn_input)...)\n",
    "\n",
    "# Visualize fit of current MAP estimate on training data\n",
    "scatter(trn_data[:,1], trn_output, size=(1000,300), color=\"black\", xscale=:log10, xlabel=\"Frequency (Hz)\", ylabel=\"Sound (dB)\", label=\"training data\")\n",
    "plot!(trn_data[sortedix_trn,1], V_trn[sortedix_trn,:]*θ_MAP, color=\"blue\", label=\"MAP fit for d=3\")"
   ]
  },
  {
   "cell_type": "markdown",
   "metadata": {},
   "source": [
    "## [1pt] Question 5 \n",
    "\n",
    "- Compute the posterior predictive distribution for each test data point. \n",
    "\n",
    "Note: that would normally require marginalizing over the precision posterior. You may use a simple approximation instead: fix the precision with the MAP estimate based on your computed posterior.\n",
    "- Scatter the test data points (frequency in `xscale=:log10` on x-axis, sound on y-axis).\n",
    "- Add the means of the posterior predictive distributions as a solid line.\n",
    "- Add the prediction uncertainty margin of +/- $\\sigma$ around the means (use the `ribbon=` keyword argument for this purpose).\n",
    "\n",
    "Hint: if `ForneyLab.unsafeMode()` doesn't work, then you can extract the posterior parameters and compute the mode according to the expressions given in Appendix B of [Bishop's Pattern Recognition & Machine Learning](https://www.microsoft.com/en-us/research/uploads/prod/2006/01/Bishop-Pattern-Recognition-and-Machine-Learning-2006.pdf)."
   ]
  },
  {
   "cell_type": "code",
   "execution_count": 283,
   "metadata": {},
   "outputs": [],
   "source": [
    "### YOUR CODE HERE ###"
   ]
  },
  {
   "cell_type": "markdown",
   "metadata": {},
   "source": [
    "## [2pt] Question 6\n",
    "\n",
    "- Alter the inference procedure defined for Question 4 such that you also compute Free Energy.\n",
    "- Define models for polynomials of order $d = 1, \\dots, 5$ and store the Free Energy for each model.\n",
    "- Select the model with the smallest free energy and report the order of the polynomial."
   ]
  },
  {
   "cell_type": "code",
   "execution_count": 284,
   "metadata": {},
   "outputs": [],
   "source": [
    "### YOUR CODE HERE ###"
   ]
  }
 ],
 "metadata": {
  "kernelspec": {
   "display_name": "Julia 1.6.3",
   "language": "julia",
   "name": "julia-1.6"
  },
  "language_info": {
   "file_extension": ".jl",
   "mimetype": "application/julia",
   "name": "julia",
   "version": "1.6.3"
  }
 },
 "nbformat": 4,
 "nbformat_minor": 4
}
